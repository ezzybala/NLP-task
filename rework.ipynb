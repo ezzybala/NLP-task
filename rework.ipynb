{
  "cells": [
    {
      "cell_type": "code",
      "execution_count": null,
      "metadata": {
        "colab": {
          "base_uri": "https://localhost:8080/"
        },
        "id": "PjtSiYa10Bhe",
        "outputId": "adab3df8-da1a-4b91-a307-fe94180e7930"
      },
      "outputs": [
        {
          "output_type": "stream",
          "name": "stdout",
          "text": [
            "Version:  2.15.0\n",
            "Eager mode:  True\n",
            "Hub version:  0.16.1\n",
            "GPU is NOT AVAILABLE\n"
          ]
        }
      ],
      "source": [
        "import numpy as np\n",
        "import pandas as pd\n",
        "import random\n",
        "import tensorflow as tf\n",
        "import tensorflow_hub as hub\n",
        "import gdown\n",
        "import matplotlib.pyplot as plt\n",
        "from sklearn.preprocessing import LabelEncoder\n",
        "\n",
        "print(\"Version: \", tf.__version__)\n",
        "print(\"Eager mode: \", tf.executing_eagerly())\n",
        "print(\"Hub version: \", hub.__version__)\n",
        "print(\"GPU is\", \"available\" if tf.config.list_physical_devices('GPU') else \"NOT AVAILABLE\")"
      ]
    },
    {
      "cell_type": "code",
      "execution_count": null,
      "metadata": {
        "colab": {
          "base_uri": "https://localhost:8080/"
        },
        "id": "1L8Zb3iAiYIY",
        "outputId": "350c891e-91e8-4b43-fa6c-f2894d0889e6"
      },
      "outputs": [
        {
          "output_type": "stream",
          "name": "stderr",
          "text": [
            "Downloading...\n",
            "From: https://drive.google.com/uc?id=1SpPZg-_scagsSScNEi-gt06tEgM4S-EK\n",
            "To: /content/all_tickets_processed.csv\n",
            "100%|██████████| 14.6M/14.6M [00:00<00:00, 36.5MB/s]\n"
          ]
        }
      ],
      "source": [
        "url = 'https://drive.google.com/uc?id=1SpPZg-_scagsSScNEi-gt06tEgM4S-EK'\n",
        "\n",
        "output_path = '/content/all_tickets_processed.csv'\n",
        "\n",
        "gdown.download(url, output_path, quiet=False)\n",
        "\n",
        "data = pd.read_csv(output_path)"
      ]
    },
    {
      "cell_type": "code",
      "execution_count": null,
      "metadata": {
        "id": "OKgqa58f1FzT"
      },
      "outputs": [],
      "source": [
        "df = pd.read_csv('/content/all_tickets_processed.csv')"
      ]
    },
    {
      "cell_type": "code",
      "execution_count": null,
      "metadata": {
        "colab": {
          "base_uri": "https://localhost:8080/",
          "height": 206
        },
        "id": "n8uVAtq-g8JY",
        "outputId": "fdc7f070-306b-47f0-96b3-3bcc006acdfe"
      },
      "outputs": [
        {
          "data": {
            "application/vnd.google.colaboratory.intrinsic+json": {
              "summary": "{\n  \"name\": \"df\",\n  \"rows\": 47837,\n  \"fields\": [\n    {\n      \"column\": \"Document\",\n      \"properties\": {\n        \"dtype\": \"string\",\n        \"num_unique_values\": 47837,\n        \"samples\": [\n          \"add a new rd party contact snow add rd party snow hello guys want ask create understood created platform also environment name microsecond msec pl please let further assist kind regards leader mobile\",\n          \"request laptop stand and keyboard stand keyboard greetings quite tall stand screen closer eye level keyboard mainly same reason also make less mistakes because key layout thank developer\",\n          \"upgrade to windows for november pm upgrade hi please assist upgrade workstation his currently working requires working docker containers environment working expected after days investigations troubleshooting side recommended members setup environment attached thread reference please assist upgrade process urgent since due these technical impediments entire deliver expecting thanks\"\n        ],\n        \"semantic_type\": \"\",\n        \"description\": \"\"\n      }\n    },\n    {\n      \"column\": \"Topic_group\",\n      \"properties\": {\n        \"dtype\": \"category\",\n        \"num_unique_values\": 8,\n        \"samples\": [\n          \"Miscellaneous\",\n          \"HR Support\",\n          \"Hardware\"\n        ],\n        \"semantic_type\": \"\",\n        \"description\": \"\"\n      }\n    }\n  ]\n}",
              "type": "dataframe",
              "variable_name": "df"
            },
            "text/html": [
              "\n",
              "  <div id=\"df-0a1016ff-6389-49ff-a509-a632e887d35a\" class=\"colab-df-container\">\n",
              "    <div>\n",
              "<style scoped>\n",
              "    .dataframe tbody tr th:only-of-type {\n",
              "        vertical-align: middle;\n",
              "    }\n",
              "\n",
              "    .dataframe tbody tr th {\n",
              "        vertical-align: top;\n",
              "    }\n",
              "\n",
              "    .dataframe thead th {\n",
              "        text-align: right;\n",
              "    }\n",
              "</style>\n",
              "<table border=\"1\" class=\"dataframe\">\n",
              "  <thead>\n",
              "    <tr style=\"text-align: right;\">\n",
              "      <th></th>\n",
              "      <th>Document</th>\n",
              "      <th>Topic_group</th>\n",
              "    </tr>\n",
              "  </thead>\n",
              "  <tbody>\n",
              "    <tr>\n",
              "      <th>40715</th>\n",
              "      <td>federation service seems to have changed sent ...</td>\n",
              "      <td>Hardware</td>\n",
              "    </tr>\n",
              "    <tr>\n",
              "      <th>2292</th>\n",
              "      <td>mail dear please create possibility mails whic...</td>\n",
              "      <td>Miscellaneous</td>\n",
              "    </tr>\n",
              "    <tr>\n",
              "      <th>22204</th>\n",
              "      <td>creation of a mail called am team wednesday pm...</td>\n",
              "      <td>Miscellaneous</td>\n",
              "    </tr>\n",
              "    <tr>\n",
              "      <th>43308</th>\n",
              "      <td>password reset for tine hello there let ask me...</td>\n",
              "      <td>Access</td>\n",
              "    </tr>\n",
              "    <tr>\n",
              "      <th>10378</th>\n",
              "      <td>access to confluence wednesday pm confluence d...</td>\n",
              "      <td>Access</td>\n",
              "    </tr>\n",
              "  </tbody>\n",
              "</table>\n",
              "</div>\n",
              "    <div class=\"colab-df-buttons\">\n",
              "\n",
              "  <div class=\"colab-df-container\">\n",
              "    <button class=\"colab-df-convert\" onclick=\"convertToInteractive('df-0a1016ff-6389-49ff-a509-a632e887d35a')\"\n",
              "            title=\"Convert this dataframe to an interactive table.\"\n",
              "            style=\"display:none;\">\n",
              "\n",
              "  <svg xmlns=\"http://www.w3.org/2000/svg\" height=\"24px\" viewBox=\"0 -960 960 960\">\n",
              "    <path d=\"M120-120v-720h720v720H120Zm60-500h600v-160H180v160Zm220 220h160v-160H400v160Zm0 220h160v-160H400v160ZM180-400h160v-160H180v160Zm440 0h160v-160H620v160ZM180-180h160v-160H180v160Zm440 0h160v-160H620v160Z\"/>\n",
              "  </svg>\n",
              "    </button>\n",
              "\n",
              "  <style>\n",
              "    .colab-df-container {\n",
              "      display:flex;\n",
              "      gap: 12px;\n",
              "    }\n",
              "\n",
              "    .colab-df-convert {\n",
              "      background-color: #E8F0FE;\n",
              "      border: none;\n",
              "      border-radius: 50%;\n",
              "      cursor: pointer;\n",
              "      display: none;\n",
              "      fill: #1967D2;\n",
              "      height: 32px;\n",
              "      padding: 0 0 0 0;\n",
              "      width: 32px;\n",
              "    }\n",
              "\n",
              "    .colab-df-convert:hover {\n",
              "      background-color: #E2EBFA;\n",
              "      box-shadow: 0px 1px 2px rgba(60, 64, 67, 0.3), 0px 1px 3px 1px rgba(60, 64, 67, 0.15);\n",
              "      fill: #174EA6;\n",
              "    }\n",
              "\n",
              "    .colab-df-buttons div {\n",
              "      margin-bottom: 4px;\n",
              "    }\n",
              "\n",
              "    [theme=dark] .colab-df-convert {\n",
              "      background-color: #3B4455;\n",
              "      fill: #D2E3FC;\n",
              "    }\n",
              "\n",
              "    [theme=dark] .colab-df-convert:hover {\n",
              "      background-color: #434B5C;\n",
              "      box-shadow: 0px 1px 3px 1px rgba(0, 0, 0, 0.15);\n",
              "      filter: drop-shadow(0px 1px 2px rgba(0, 0, 0, 0.3));\n",
              "      fill: #FFFFFF;\n",
              "    }\n",
              "  </style>\n",
              "\n",
              "    <script>\n",
              "      const buttonEl =\n",
              "        document.querySelector('#df-0a1016ff-6389-49ff-a509-a632e887d35a button.colab-df-convert');\n",
              "      buttonEl.style.display =\n",
              "        google.colab.kernel.accessAllowed ? 'block' : 'none';\n",
              "\n",
              "      async function convertToInteractive(key) {\n",
              "        const element = document.querySelector('#df-0a1016ff-6389-49ff-a509-a632e887d35a');\n",
              "        const dataTable =\n",
              "          await google.colab.kernel.invokeFunction('convertToInteractive',\n",
              "                                                    [key], {});\n",
              "        if (!dataTable) return;\n",
              "\n",
              "        const docLinkHtml = 'Like what you see? Visit the ' +\n",
              "          '<a target=\"_blank\" href=https://colab.research.google.com/notebooks/data_table.ipynb>data table notebook</a>'\n",
              "          + ' to learn more about interactive tables.';\n",
              "        element.innerHTML = '';\n",
              "        dataTable['output_type'] = 'display_data';\n",
              "        await google.colab.output.renderOutput(dataTable, element);\n",
              "        const docLink = document.createElement('div');\n",
              "        docLink.innerHTML = docLinkHtml;\n",
              "        element.appendChild(docLink);\n",
              "      }\n",
              "    </script>\n",
              "  </div>\n",
              "\n",
              "\n",
              "<div id=\"df-60216608-2cbc-47a9-8bca-b37f6ba714a8\">\n",
              "  <button class=\"colab-df-quickchart\" onclick=\"quickchart('df-60216608-2cbc-47a9-8bca-b37f6ba714a8')\"\n",
              "            title=\"Suggest charts\"\n",
              "            style=\"display:none;\">\n",
              "\n",
              "<svg xmlns=\"http://www.w3.org/2000/svg\" height=\"24px\"viewBox=\"0 0 24 24\"\n",
              "     width=\"24px\">\n",
              "    <g>\n",
              "        <path d=\"M19 3H5c-1.1 0-2 .9-2 2v14c0 1.1.9 2 2 2h14c1.1 0 2-.9 2-2V5c0-1.1-.9-2-2-2zM9 17H7v-7h2v7zm4 0h-2V7h2v10zm4 0h-2v-4h2v4z\"/>\n",
              "    </g>\n",
              "</svg>\n",
              "  </button>\n",
              "\n",
              "<style>\n",
              "  .colab-df-quickchart {\n",
              "      --bg-color: #E8F0FE;\n",
              "      --fill-color: #1967D2;\n",
              "      --hover-bg-color: #E2EBFA;\n",
              "      --hover-fill-color: #174EA6;\n",
              "      --disabled-fill-color: #AAA;\n",
              "      --disabled-bg-color: #DDD;\n",
              "  }\n",
              "\n",
              "  [theme=dark] .colab-df-quickchart {\n",
              "      --bg-color: #3B4455;\n",
              "      --fill-color: #D2E3FC;\n",
              "      --hover-bg-color: #434B5C;\n",
              "      --hover-fill-color: #FFFFFF;\n",
              "      --disabled-bg-color: #3B4455;\n",
              "      --disabled-fill-color: #666;\n",
              "  }\n",
              "\n",
              "  .colab-df-quickchart {\n",
              "    background-color: var(--bg-color);\n",
              "    border: none;\n",
              "    border-radius: 50%;\n",
              "    cursor: pointer;\n",
              "    display: none;\n",
              "    fill: var(--fill-color);\n",
              "    height: 32px;\n",
              "    padding: 0;\n",
              "    width: 32px;\n",
              "  }\n",
              "\n",
              "  .colab-df-quickchart:hover {\n",
              "    background-color: var(--hover-bg-color);\n",
              "    box-shadow: 0 1px 2px rgba(60, 64, 67, 0.3), 0 1px 3px 1px rgba(60, 64, 67, 0.15);\n",
              "    fill: var(--button-hover-fill-color);\n",
              "  }\n",
              "\n",
              "  .colab-df-quickchart-complete:disabled,\n",
              "  .colab-df-quickchart-complete:disabled:hover {\n",
              "    background-color: var(--disabled-bg-color);\n",
              "    fill: var(--disabled-fill-color);\n",
              "    box-shadow: none;\n",
              "  }\n",
              "\n",
              "  .colab-df-spinner {\n",
              "    border: 2px solid var(--fill-color);\n",
              "    border-color: transparent;\n",
              "    border-bottom-color: var(--fill-color);\n",
              "    animation:\n",
              "      spin 1s steps(1) infinite;\n",
              "  }\n",
              "\n",
              "  @keyframes spin {\n",
              "    0% {\n",
              "      border-color: transparent;\n",
              "      border-bottom-color: var(--fill-color);\n",
              "      border-left-color: var(--fill-color);\n",
              "    }\n",
              "    20% {\n",
              "      border-color: transparent;\n",
              "      border-left-color: var(--fill-color);\n",
              "      border-top-color: var(--fill-color);\n",
              "    }\n",
              "    30% {\n",
              "      border-color: transparent;\n",
              "      border-left-color: var(--fill-color);\n",
              "      border-top-color: var(--fill-color);\n",
              "      border-right-color: var(--fill-color);\n",
              "    }\n",
              "    40% {\n",
              "      border-color: transparent;\n",
              "      border-right-color: var(--fill-color);\n",
              "      border-top-color: var(--fill-color);\n",
              "    }\n",
              "    60% {\n",
              "      border-color: transparent;\n",
              "      border-right-color: var(--fill-color);\n",
              "    }\n",
              "    80% {\n",
              "      border-color: transparent;\n",
              "      border-right-color: var(--fill-color);\n",
              "      border-bottom-color: var(--fill-color);\n",
              "    }\n",
              "    90% {\n",
              "      border-color: transparent;\n",
              "      border-bottom-color: var(--fill-color);\n",
              "    }\n",
              "  }\n",
              "</style>\n",
              "\n",
              "  <script>\n",
              "    async function quickchart(key) {\n",
              "      const quickchartButtonEl =\n",
              "        document.querySelector('#' + key + ' button');\n",
              "      quickchartButtonEl.disabled = true;  // To prevent multiple clicks.\n",
              "      quickchartButtonEl.classList.add('colab-df-spinner');\n",
              "      try {\n",
              "        const charts = await google.colab.kernel.invokeFunction(\n",
              "            'suggestCharts', [key], {});\n",
              "      } catch (error) {\n",
              "        console.error('Error during call to suggestCharts:', error);\n",
              "      }\n",
              "      quickchartButtonEl.classList.remove('colab-df-spinner');\n",
              "      quickchartButtonEl.classList.add('colab-df-quickchart-complete');\n",
              "    }\n",
              "    (() => {\n",
              "      let quickchartButtonEl =\n",
              "        document.querySelector('#df-60216608-2cbc-47a9-8bca-b37f6ba714a8 button');\n",
              "      quickchartButtonEl.style.display =\n",
              "        google.colab.kernel.accessAllowed ? 'block' : 'none';\n",
              "    })();\n",
              "  </script>\n",
              "</div>\n",
              "    </div>\n",
              "  </div>\n"
            ],
            "text/plain": [
              "                                                Document    Topic_group\n",
              "40715  federation service seems to have changed sent ...       Hardware\n",
              "2292   mail dear please create possibility mails whic...  Miscellaneous\n",
              "22204  creation of a mail called am team wednesday pm...  Miscellaneous\n",
              "43308  password reset for tine hello there let ask me...         Access\n",
              "10378  access to confluence wednesday pm confluence d...         Access"
            ]
          },
          "execution_count": 69,
          "metadata": {},
          "output_type": "execute_result"
        }
      ],
      "source": [
        "# # shuffle the DataFrame rows\n",
        "# df = df.sample(frac=1, random_state=28)\n",
        "\n",
        "# df.head()"
      ]
    },
    {
      "cell_type": "code",
      "execution_count": null,
      "metadata": {
        "colab": {
          "base_uri": "https://localhost:8080/"
        },
        "id": "arHoq7eO1mUe",
        "outputId": "1ba70f13-f290-4857-f534-2911ae454ac4"
      },
      "outputs": [
        {
          "data": {
            "text/plain": [
              "Topic_group\n",
              "Hardware                 13617\n",
              "HR Support               10915\n",
              "Access                    7125\n",
              "Miscellaneous             7060\n",
              "Storage                   2777\n",
              "Purchase                  2464\n",
              "Internal Project          2119\n",
              "Administrative rights     1760\n",
              "Name: count, dtype: int64"
            ]
          },
          "execution_count": 132,
          "metadata": {},
          "output_type": "execute_result"
        }
      ],
      "source": [
        "df['Topic_group'].value_counts()\n",
        "\n"
      ]
    },
    {
      "cell_type": "code",
      "execution_count": null,
      "metadata": {
        "colab": {
          "base_uri": "https://localhost:8080/"
        },
        "id": "oJnKmV6P3o7h",
        "outputId": "65053609-06b1-414c-8a60-82c71c5787aa"
      },
      "outputs": [
        {
          "data": {
            "text/plain": [
              "array(['Hardware', 'Access', 'Miscellaneous', 'HR Support', 'Purchase',\n",
              "       'Administrative rights', 'Storage', 'Internal Project'],\n",
              "      dtype=object)"
            ]
          },
          "execution_count": 133,
          "metadata": {},
          "output_type": "execute_result"
        }
      ],
      "source": [
        "df['Topic_group'].unique()"
      ]
    },
    {
      "cell_type": "code",
      "execution_count": null,
      "metadata": {
        "colab": {
          "base_uri": "https://localhost:8080/",
          "height": 599
        },
        "id": "naELE_lc18kL",
        "outputId": "fe304ab0-101c-449a-f958-e78eab98561a"
      },
      "outputs": [
        {
          "data": {
            "text/plain": [
              "<Axes: xlabel='Topic_group'>"
            ]
          },
          "execution_count": 134,
          "metadata": {},
          "output_type": "execute_result"
        },
        {
          "data": {
            "image/png": "[encoded data removed]",
            "text/plain": [
              "<Figure size 640x480 with 1 Axes>"
            ]
          },
          "metadata": {},
          "output_type": "display_data"
        }
      ],
      "source": [
        "df['Topic_group'].value_counts().plot(kind='bar')\n"
      ]
    },
    {
      "cell_type": "code",
      "execution_count": null,
      "metadata": {
        "colab": {
          "base_uri": "https://localhost:8080/"
        },
        "id": "szE1F1Rh4JgO",
        "outputId": "dd5bae9d-ebba-4445-c1e8-90a23c658e23"
      },
      "outputs": [
        {
          "name": "stdout",
          "output_type": "stream",
          "text": [
            "Average number of characters: 291.8812634571566\n",
            "Average number of words: 43.597340970378575\n"
          ]
        }
      ],
      "source": [
        "# Documental Length Analysis\n",
        "print('Average number of characters:', df['Document'].apply(len).mean())\n",
        "print('Average number of words:', df['Document'].apply(lambda x: len(x.split())).mean())"
      ]
    },
    {
      "cell_type": "markdown",
      "metadata": {
        "id": "5pc16M9znT1c"
      },
      "source": [
        "To balance out the dataset, downsample the majority classes (Hardware, HR Support, Access, Miscellaneous) such that there are only 5000 rows each."
      ]
    },
    {
      "cell_type": "code",
      "execution_count": null,
      "metadata": {
        "colab": {
          "base_uri": "https://localhost:8080/"
        },
        "id": "QLOpatS_nNca",
        "outputId": "2e8408e6-08c2-4805-b25a-e828fffbd05f"
      },
      "outputs": [
        {
          "name": "stdout",
          "output_type": "stream",
          "text": [
            "(29120, 2)\n",
            "Hardware count: 5000\n",
            "HR Support count: 5000\n",
            "Access count: 5000\n",
            "Miscellaneous count: 5000\n"
          ]
        }
      ],
      "source": [
        "# Get the indices for each category\n",
        "hardware_indices = df[df['Topic_group'] == 'Hardware'].index\n",
        "hr_support_indices = df[df['Topic_group'] == 'HR Support'].index\n",
        "access_indices = df[df['Topic_group'] == 'Access'].index\n",
        "miscellaneous_indices = df[df['Topic_group'] == 'Miscellaneous'].index\n",
        "\n",
        "# Create a list of indices to drop\n",
        "indices_to_drop = random.sample(list(hardware_indices), len(hardware_indices) - 5000) + \\\n",
        "                  random.sample(list(hr_support_indices), len(hr_support_indices) - 5000) + \\\n",
        "                  random.sample(list(access_indices), len(access_indices) - 5000) + \\\n",
        "                  random.sample(list(miscellaneous_indices), len(miscellaneous_indices) - 5000)\n",
        "\n",
        "# Drop the rows\n",
        "tickets_df_downsample = df.drop(indices_to_drop)\n",
        "\n",
        "# Check the number of rows for each category\n",
        "print(tickets_df_downsample.shape)\n",
        "print(\"Hardware count:\", tickets_df_downsample[tickets_df_downsample['Topic_group'] == 'Hardware'].shape[0])\n",
        "print(\"HR Support count:\", tickets_df_downsample[tickets_df_downsample['Topic_group'] == 'HR Support'].shape[0])\n",
        "print(\"Access count:\", tickets_df_downsample[tickets_df_downsample['Topic_group'] == 'Access'].shape[0])\n",
        "print(\"Miscellaneous count:\", tickets_df_downsample[tickets_df_downsample['Topic_group'] == 'Miscellaneous'].shape[0])\n",
        "\n"
      ]
    },
    {
      "cell_type": "code",
      "execution_count": null,
      "metadata": {
        "colab": {
          "base_uri": "https://localhost:8080/",
          "height": 599
        },
        "id": "VitRjxLQoiPE",
        "outputId": "c7886ef5-f3e9-48d4-a8f3-fabea644e47b"
      },
      "outputs": [
        {
          "data": {
            "text/plain": [
              "<Axes: xlabel='Topic_group'>"
            ]
          },
          "execution_count": 137,
          "metadata": {},
          "output_type": "execute_result"
        },
        {
          "data": {
            "image/png": "[encoded data removed]",
            "text/plain": [
              "<Figure size 640x480 with 1 Axes>"
            ]
          },
          "metadata": {},
          "output_type": "display_data"
        }
      ],
      "source": [
        "tickets_df_downsample['Topic_group'].value_counts().plot(kind='bar')"
      ]
    },
    {
      "cell_type": "code",
      "execution_count": null,
      "metadata": {
        "id": "gZxS7Hdd2ElM"
      },
      "outputs": [],
      "source": [
        "import re\n",
        "def cleanTxt(text):\n",
        "    text = re.sub(r'@\\w+|#\\w+', '', text) #Removing @mentions\n",
        "    text = re.sub('#', '', text) # Removing '#' hash tag\n",
        "    text = re.sub('RT[\\s]+', '', text) # Removing RT\n",
        "    text = re.sub('\\w+:\\/\\/\\S+', '', text) # Removing hyperlink\n",
        "    #remove punctuation\n",
        "    text = re.sub('[^a-zA-Z]', ' ', text)\n",
        "    text.lower()\n",
        "    return text"
      ]
    },
    {
      "cell_type": "code",
      "execution_count": null,
      "metadata": {
        "id": "HHSX9MOz22lA"
      },
      "outputs": [],
      "source": [
        "tickets_df_downsample['Cleaned_Document'] = tickets_df_downsample['Document'].apply(lambda x: cleanTxt(x))\n"
      ]
    },
    {
      "cell_type": "code",
      "execution_count": null,
      "metadata": {
        "colab": {
          "base_uri": "https://localhost:8080/",
          "height": 423
        },
        "id": "H6TJuYhv3aXb",
        "outputId": "0fde6d43-34cc-4055-9005-26044a414623"
      },
      "outputs": [
        {
          "data": {
            "application/vnd.google.colaboratory.intrinsic+json": {
              "summary": "{\n  \"name\": \"tickets_df_downsample\",\n  \"rows\": 29120,\n  \"fields\": [\n    {\n      \"column\": \"Document\",\n      \"properties\": {\n        \"dtype\": \"string\",\n        \"num_unique_values\": 29120,\n        \"samples\": [\n          \"oracle change needed urgent change needed urgent hi urgent changing two teams bench codes incorporate pm change needed bench till whole working bench period till whole working appreciate done pm thanks\",\n          \"monitor monitor va digital monitor display port monitor\",\n          \"help this is the now get today when signing into sent tuesday help get today when signing into hi sign screen get today when signing usual domain name does work what should enter proceed thanks\"\n        ],\n        \"semantic_type\": \"\",\n        \"description\": \"\"\n      }\n    },\n    {\n      \"column\": \"Topic_group\",\n      \"properties\": {\n        \"dtype\": \"category\",\n        \"num_unique_values\": 8,\n        \"samples\": [\n          \"Access\",\n          \"Administrative rights\",\n          \"Hardware\"\n        ],\n        \"semantic_type\": \"\",\n        \"description\": \"\"\n      }\n    },\n    {\n      \"column\": \"Cleaned_Document\",\n      \"properties\": {\n        \"dtype\": \"string\",\n        \"num_unique_values\": 29120,\n        \"samples\": [\n          \"oracle change needed urgent change needed urgent hi urgent changing two teams bench codes incorporate pm change needed bench till whole working bench period till whole working appreciate done pm thanks\",\n          \"monitor monitor va digital monitor display port monitor\",\n          \"help this is the now get today when signing into sent tuesday help get today when signing into hi sign screen get today when signing usual domain name does work what should enter proceed thanks\"\n        ],\n        \"semantic_type\": \"\",\n        \"description\": \"\"\n      }\n    }\n  ]\n}",
              "type": "dataframe",
              "variable_name": "tickets_df_downsample"
            },
            "text/html": [
              "\n",
              "  <div id=\"df-b1b52e9b-c4fd-4752-b169-d52e58685ffe\" class=\"colab-df-container\">\n",
              "    <div>\n",
              "<style scoped>\n",
              "    .dataframe tbody tr th:only-of-type {\n",
              "        vertical-align: middle;\n",
              "    }\n",
              "\n",
              "    .dataframe tbody tr th {\n",
              "        vertical-align: top;\n",
              "    }\n",
              "\n",
              "    .dataframe thead th {\n",
              "        text-align: right;\n",
              "    }\n",
              "</style>\n",
              "<table border=\"1\" class=\"dataframe\">\n",
              "  <thead>\n",
              "    <tr style=\"text-align: right;\">\n",
              "      <th></th>\n",
              "      <th>Document</th>\n",
              "      <th>Topic_group</th>\n",
              "      <th>Cleaned_Document</th>\n",
              "    </tr>\n",
              "  </thead>\n",
              "  <tbody>\n",
              "    <tr>\n",
              "      <th>0</th>\n",
              "      <td>connection with icon icon dear please setup ic...</td>\n",
              "      <td>Hardware</td>\n",
              "      <td>connection with icon icon dear please setup ic...</td>\n",
              "    </tr>\n",
              "    <tr>\n",
              "      <th>1</th>\n",
              "      <td>work experience user work experience user hi w...</td>\n",
              "      <td>Access</td>\n",
              "      <td>work experience user work experience user hi w...</td>\n",
              "    </tr>\n",
              "    <tr>\n",
              "      <th>2</th>\n",
              "      <td>requesting for meeting requesting meeting hi p...</td>\n",
              "      <td>Hardware</td>\n",
              "      <td>requesting for meeting requesting meeting hi p...</td>\n",
              "    </tr>\n",
              "    <tr>\n",
              "      <th>4</th>\n",
              "      <td>mail verification warning hi has got attached ...</td>\n",
              "      <td>Miscellaneous</td>\n",
              "      <td>mail verification warning hi has got attached ...</td>\n",
              "    </tr>\n",
              "    <tr>\n",
              "      <th>6</th>\n",
              "      <td>prod servers tunneling prod tunneling va la tu...</td>\n",
              "      <td>Hardware</td>\n",
              "      <td>prod servers tunneling prod tunneling va la tu...</td>\n",
              "    </tr>\n",
              "    <tr>\n",
              "      <th>...</th>\n",
              "      <td>...</td>\n",
              "      <td>...</td>\n",
              "      <td>...</td>\n",
              "    </tr>\n",
              "    <tr>\n",
              "      <th>47829</th>\n",
              "      <td>sensitive information access sent wednesday ju...</td>\n",
              "      <td>Storage</td>\n",
              "      <td>sensitive information access sent wednesday ju...</td>\n",
              "    </tr>\n",
              "    <tr>\n",
              "      <th>47831</th>\n",
              "      <td>cannot on outlook account from laptop cannot l...</td>\n",
              "      <td>Administrative rights</td>\n",
              "      <td>cannot on outlook account from laptop cannot l...</td>\n",
              "    </tr>\n",
              "    <tr>\n",
              "      <th>47832</th>\n",
              "      <td>git space for a project issues with adding use...</td>\n",
              "      <td>Access</td>\n",
              "      <td>git space for a project issues with adding use...</td>\n",
              "    </tr>\n",
              "    <tr>\n",
              "      <th>47833</th>\n",
              "      <td>error sent july error hi guys can you help out...</td>\n",
              "      <td>Miscellaneous</td>\n",
              "      <td>error sent july error hi guys can you help out...</td>\n",
              "    </tr>\n",
              "    <tr>\n",
              "      <th>47835</th>\n",
              "      <td>error cube reports sent tuesday july error hel...</td>\n",
              "      <td>HR Support</td>\n",
              "      <td>error cube reports sent tuesday july error hel...</td>\n",
              "    </tr>\n",
              "  </tbody>\n",
              "</table>\n",
              "<p>29120 rows × 3 columns</p>\n",
              "</div>\n",
              "    <div class=\"colab-df-buttons\">\n",
              "\n",
              "  <div class=\"colab-df-container\">\n",
              "    <button class=\"colab-df-convert\" onclick=\"convertToInteractive('df-b1b52e9b-c4fd-4752-b169-d52e58685ffe')\"\n",
              "            title=\"Convert this dataframe to an interactive table.\"\n",
              "            style=\"display:none;\">\n",
              "\n",
              "  <svg xmlns=\"http://www.w3.org/2000/svg\" height=\"24px\" viewBox=\"0 -960 960 960\">\n",
              "    <path d=\"M120-120v-720h720v720H120Zm60-500h600v-160H180v160Zm220 220h160v-160H400v160Zm0 220h160v-160H400v160ZM180-400h160v-160H180v160Zm440 0h160v-160H620v160ZM180-180h160v-160H180v160Zm440 0h160v-160H620v160Z\"/>\n",
              "  </svg>\n",
              "    </button>\n",
              "\n",
              "  <style>\n",
              "    .colab-df-container {\n",
              "      display:flex;\n",
              "      gap: 12px;\n",
              "    }\n",
              "\n",
              "    .colab-df-convert {\n",
              "      background-color: #E8F0FE;\n",
              "      border: none;\n",
              "      border-radius: 50%;\n",
              "      cursor: pointer;\n",
              "      display: none;\n",
              "      fill: #1967D2;\n",
              "      height: 32px;\n",
              "      padding: 0 0 0 0;\n",
              "      width: 32px;\n",
              "    }\n",
              "\n",
              "    .colab-df-convert:hover {\n",
              "      background-color: #E2EBFA;\n",
              "      box-shadow: 0px 1px 2px rgba(60, 64, 67, 0.3), 0px 1px 3px 1px rgba(60, 64, 67, 0.15);\n",
              "      fill: #174EA6;\n",
              "    }\n",
              "\n",
              "    .colab-df-buttons div {\n",
              "      margin-bottom: 4px;\n",
              "    }\n",
              "\n",
              "    [theme=dark] .colab-df-convert {\n",
              "      background-color: #3B4455;\n",
              "      fill: #D2E3FC;\n",
              "    }\n",
              "\n",
              "    [theme=dark] .colab-df-convert:hover {\n",
              "      background-color: #434B5C;\n",
              "      box-shadow: 0px 1px 3px 1px rgba(0, 0, 0, 0.15);\n",
              "      filter: drop-shadow(0px 1px 2px rgba(0, 0, 0, 0.3));\n",
              "      fill: #FFFFFF;\n",
              "    }\n",
              "  </style>\n",
              "\n",
              "    <script>\n",
              "      const buttonEl =\n",
              "        document.querySelector('#df-b1b52e9b-c4fd-4752-b169-d52e58685ffe button.colab-df-convert');\n",
              "      buttonEl.style.display =\n",
              "        google.colab.kernel.accessAllowed ? 'block' : 'none';\n",
              "\n",
              "      async function convertToInteractive(key) {\n",
              "        const element = document.querySelector('#df-b1b52e9b-c4fd-4752-b169-d52e58685ffe');\n",
              "        const dataTable =\n",
              "          await google.colab.kernel.invokeFunction('convertToInteractive',\n",
              "                                                    [key], {});\n",
              "        if (!dataTable) return;\n",
              "\n",
              "        const docLinkHtml = 'Like what you see? Visit the ' +\n",
              "          '<a target=\"_blank\" href=https://colab.research.google.com/notebooks/data_table.ipynb>data table notebook</a>'\n",
              "          + ' to learn more about interactive tables.';\n",
              "        element.innerHTML = '';\n",
              "        dataTable['output_type'] = 'display_data';\n",
              "        await google.colab.output.renderOutput(dataTable, element);\n",
              "        const docLink = document.createElement('div');\n",
              "        docLink.innerHTML = docLinkHtml;\n",
              "        element.appendChild(docLink);\n",
              "      }\n",
              "    </script>\n",
              "  </div>\n",
              "\n",
              "\n",
              "<div id=\"df-524497e7-a344-4d37-9ce9-ede0b5f76d46\">\n",
              "  <button class=\"colab-df-quickchart\" onclick=\"quickchart('df-524497e7-a344-4d37-9ce9-ede0b5f76d46')\"\n",
              "            title=\"Suggest charts\"\n",
              "            style=\"display:none;\">\n",
              "\n",
              "<svg xmlns=\"http://www.w3.org/2000/svg\" height=\"24px\"viewBox=\"0 0 24 24\"\n",
              "     width=\"24px\">\n",
              "    <g>\n",
              "        <path d=\"M19 3H5c-1.1 0-2 .9-2 2v14c0 1.1.9 2 2 2h14c1.1 0 2-.9 2-2V5c0-1.1-.9-2-2-2zM9 17H7v-7h2v7zm4 0h-2V7h2v10zm4 0h-2v-4h2v4z\"/>\n",
              "    </g>\n",
              "</svg>\n",
              "  </button>\n",
              "\n",
              "<style>\n",
              "  .colab-df-quickchart {\n",
              "      --bg-color: #E8F0FE;\n",
              "      --fill-color: #1967D2;\n",
              "      --hover-bg-color: #E2EBFA;\n",
              "      --hover-fill-color: #174EA6;\n",
              "      --disabled-fill-color: #AAA;\n",
              "      --disabled-bg-color: #DDD;\n",
              "  }\n",
              "\n",
              "  [theme=dark] .colab-df-quickchart {\n",
              "      --bg-color: #3B4455;\n",
              "      --fill-color: #D2E3FC;\n",
              "      --hover-bg-color: #434B5C;\n",
              "      --hover-fill-color: #FFFFFF;\n",
              "      --disabled-bg-color: #3B4455;\n",
              "      --disabled-fill-color: #666;\n",
              "  }\n",
              "\n",
              "  .colab-df-quickchart {\n",
              "    background-color: var(--bg-color);\n",
              "    border: none;\n",
              "    border-radius: 50%;\n",
              "    cursor: pointer;\n",
              "    display: none;\n",
              "    fill: var(--fill-color);\n",
              "    height: 32px;\n",
              "    padding: 0;\n",
              "    width: 32px;\n",
              "  }\n",
              "\n",
              "  .colab-df-quickchart:hover {\n",
              "    background-color: var(--hover-bg-color);\n",
              "    box-shadow: 0 1px 2px rgba(60, 64, 67, 0.3), 0 1px 3px 1px rgba(60, 64, 67, 0.15);\n",
              "    fill: var(--button-hover-fill-color);\n",
              "  }\n",
              "\n",
              "  .colab-df-quickchart-complete:disabled,\n",
              "  .colab-df-quickchart-complete:disabled:hover {\n",
              "    background-color: var(--disabled-bg-color);\n",
              "    fill: var(--disabled-fill-color);\n",
              "    box-shadow: none;\n",
              "  }\n",
              "\n",
              "  .colab-df-spinner {\n",
              "    border: 2px solid var(--fill-color);\n",
              "    border-color: transparent;\n",
              "    border-bottom-color: var(--fill-color);\n",
              "    animation:\n",
              "      spin 1s steps(1) infinite;\n",
              "  }\n",
              "\n",
              "  @keyframes spin {\n",
              "    0% {\n",
              "      border-color: transparent;\n",
              "      border-bottom-color: var(--fill-color);\n",
              "      border-left-color: var(--fill-color);\n",
              "    }\n",
              "    20% {\n",
              "      border-color: transparent;\n",
              "      border-left-color: var(--fill-color);\n",
              "      border-top-color: var(--fill-color);\n",
              "    }\n",
              "    30% {\n",
              "      border-color: transparent;\n",
              "      border-left-color: var(--fill-color);\n",
              "      border-top-color: var(--fill-color);\n",
              "      border-right-color: var(--fill-color);\n",
              "    }\n",
              "    40% {\n",
              "      border-color: transparent;\n",
              "      border-right-color: var(--fill-color);\n",
              "      border-top-color: var(--fill-color);\n",
              "    }\n",
              "    60% {\n",
              "      border-color: transparent;\n",
              "      border-right-color: var(--fill-color);\n",
              "    }\n",
              "    80% {\n",
              "      border-color: transparent;\n",
              "      border-right-color: var(--fill-color);\n",
              "      border-bottom-color: var(--fill-color);\n",
              "    }\n",
              "    90% {\n",
              "      border-color: transparent;\n",
              "      border-bottom-color: var(--fill-color);\n",
              "    }\n",
              "  }\n",
              "</style>\n",
              "\n",
              "  <script>\n",
              "    async function quickchart(key) {\n",
              "      const quickchartButtonEl =\n",
              "        document.querySelector('#' + key + ' button');\n",
              "      quickchartButtonEl.disabled = true;  // To prevent multiple clicks.\n",
              "      quickchartButtonEl.classList.add('colab-df-spinner');\n",
              "      try {\n",
              "        const charts = await google.colab.kernel.invokeFunction(\n",
              "            'suggestCharts', [key], {});\n",
              "      } catch (error) {\n",
              "        console.error('Error during call to suggestCharts:', error);\n",
              "      }\n",
              "      quickchartButtonEl.classList.remove('colab-df-spinner');\n",
              "      quickchartButtonEl.classList.add('colab-df-quickchart-complete');\n",
              "    }\n",
              "    (() => {\n",
              "      let quickchartButtonEl =\n",
              "        document.querySelector('#df-524497e7-a344-4d37-9ce9-ede0b5f76d46 button');\n",
              "      quickchartButtonEl.style.display =\n",
              "        google.colab.kernel.accessAllowed ? 'block' : 'none';\n",
              "    })();\n",
              "  </script>\n",
              "</div>\n",
              "    </div>\n",
              "  </div>\n"
            ],
            "text/plain": [
              "                                                Document  \\\n",
              "0      connection with icon icon dear please setup ic...   \n",
              "1      work experience user work experience user hi w...   \n",
              "2      requesting for meeting requesting meeting hi p...   \n",
              "4      mail verification warning hi has got attached ...   \n",
              "6      prod servers tunneling prod tunneling va la tu...   \n",
              "...                                                  ...   \n",
              "47829  sensitive information access sent wednesday ju...   \n",
              "47831  cannot on outlook account from laptop cannot l...   \n",
              "47832  git space for a project issues with adding use...   \n",
              "47833  error sent july error hi guys can you help out...   \n",
              "47835  error cube reports sent tuesday july error hel...   \n",
              "\n",
              "                 Topic_group  \\\n",
              "0                   Hardware   \n",
              "1                     Access   \n",
              "2                   Hardware   \n",
              "4              Miscellaneous   \n",
              "6                   Hardware   \n",
              "...                      ...   \n",
              "47829                Storage   \n",
              "47831  Administrative rights   \n",
              "47832                 Access   \n",
              "47833          Miscellaneous   \n",
              "47835             HR Support   \n",
              "\n",
              "                                        Cleaned_Document  \n",
              "0      connection with icon icon dear please setup ic...  \n",
              "1      work experience user work experience user hi w...  \n",
              "2      requesting for meeting requesting meeting hi p...  \n",
              "4      mail verification warning hi has got attached ...  \n",
              "6      prod servers tunneling prod tunneling va la tu...  \n",
              "...                                                  ...  \n",
              "47829  sensitive information access sent wednesday ju...  \n",
              "47831  cannot on outlook account from laptop cannot l...  \n",
              "47832  git space for a project issues with adding use...  \n",
              "47833  error sent july error hi guys can you help out...  \n",
              "47835  error cube reports sent tuesday july error hel...  \n",
              "\n",
              "[29120 rows x 3 columns]"
            ]
          },
          "execution_count": 140,
          "metadata": {},
          "output_type": "execute_result"
        }
      ],
      "source": [
        "tickets_df_downsample['Cleaned_Document'] = tickets_df_downsample['Cleaned_Document'].apply(lambda x: x.lower())\n",
        "tickets_df_downsample\n"
      ]
    },
    {
      "cell_type": "code",
      "execution_count": null,
      "metadata": {
        "id": "NnbTViekI_rM"
      },
      "outputs": [],
      "source": [
        "import nltk\n",
        "# download all\n",
        "\n",
        "nltk.download('all')"
      ]
    },
    {
      "cell_type": "code",
      "execution_count": null,
      "metadata": {
        "id": "2uUgigHKHz40"
      },
      "outputs": [],
      "source": [
        "from nltk.corpus import stopwords\n",
        "\n",
        "stop = stopwords.words('english')\n",
        "\n",
        "def remove_stopwords(text):\n",
        "    text = [word for word in text.split() if word not in stop]\n",
        "    return \" \".join(text)"
      ]
    },
    {
      "cell_type": "code",
      "execution_count": null,
      "metadata": {
        "id": "wS0IP75BIG1q"
      },
      "outputs": [],
      "source": [
        "# stopword removal\n",
        "\n",
        "tickets_df_downsample['Cleaned_Document'] = tickets_df_downsample['Cleaned_Document'].apply(lambda x: remove_stopwords(x))"
      ]
    },
    {
      "cell_type": "code",
      "execution_count": null,
      "metadata": {
        "id": "mtnmI9-vIRmc"
      },
      "outputs": [],
      "source": [
        "# function to lemmitize Topic_group column\n",
        "\n",
        "def lemmatization(text):\n",
        "    text = [lemmatizer.lemmatize(word) for word in text.split()]\n",
        "    return \" \".join(text)"
      ]
    },
    {
      "cell_type": "code",
      "execution_count": null,
      "metadata": {
        "id": "ymOMwyR1IUU_"
      },
      "outputs": [],
      "source": [
        "# lemmatization\n",
        "from nltk.stem import WordNetLemmatizer\n",
        "\n",
        "lemmatizer = WordNetLemmatizer()\n",
        "\n",
        "tickets_df_downsample['Cleaned_Document'] = tickets_df_downsample['Cleaned_Document'].apply(lambda x: lemmatization(x))\n",
        "\n",
        "\n"
      ]
    },
    {
      "cell_type": "code",
      "execution_count": null,
      "metadata": {
        "colab": {
          "base_uri": "https://localhost:8080/",
          "height": 423
        },
        "id": "5ls0Opvj4ZMn",
        "outputId": "e6d8a151-a020-4a77-ec00-861809a4f80f"
      },
      "outputs": [
        {
          "data": {
            "application/vnd.google.colaboratory.intrinsic+json": {
              "summary": "{\n  \"name\": \"tickets_df_downsample\",\n  \"rows\": 29120,\n  \"fields\": [\n    {\n      \"column\": \"Topic_group\",\n      \"properties\": {\n        \"dtype\": \"category\",\n        \"num_unique_values\": 8,\n        \"samples\": [\n          \"Access\",\n          \"Administrative rights\",\n          \"Hardware\"\n        ],\n        \"semantic_type\": \"\",\n        \"description\": \"\"\n      }\n    },\n    {\n      \"column\": \"Cleaned_Document\",\n      \"properties\": {\n        \"dtype\": \"string\",\n        \"num_unique_values\": 29088,\n        \"samples\": [\n          \"document upload error sent wednesday document upload hi keep getting error trying upload document please look thanks officer\",\n          \"request repository graduate program project repository graduate program hello repository graduate program named trainer regard senior developer\",\n          \"lazar want access shopping list want shopping please provide accept decline request\"\n        ],\n        \"semantic_type\": \"\",\n        \"description\": \"\"\n      }\n    }\n  ]\n}",
              "type": "dataframe",
              "variable_name": "tickets_df_downsample"
            },
            "text/html": [
              "\n",
              "  <div id=\"df-7352e450-43bc-448a-be9c-2446b0b55d4e\" class=\"colab-df-container\">\n",
              "    <div>\n",
              "<style scoped>\n",
              "    .dataframe tbody tr th:only-of-type {\n",
              "        vertical-align: middle;\n",
              "    }\n",
              "\n",
              "    .dataframe tbody tr th {\n",
              "        vertical-align: top;\n",
              "    }\n",
              "\n",
              "    .dataframe thead th {\n",
              "        text-align: right;\n",
              "    }\n",
              "</style>\n",
              "<table border=\"1\" class=\"dataframe\">\n",
              "  <thead>\n",
              "    <tr style=\"text-align: right;\">\n",
              "      <th></th>\n",
              "      <th>Topic_group</th>\n",
              "      <th>Cleaned_Document</th>\n",
              "    </tr>\n",
              "  </thead>\n",
              "  <tbody>\n",
              "    <tr>\n",
              "      <th>0</th>\n",
              "      <td>Hardware</td>\n",
              "      <td>connection icon icon dear please setup icon pe...</td>\n",
              "    </tr>\n",
              "    <tr>\n",
              "      <th>1</th>\n",
              "      <td>Access</td>\n",
              "      <td>work experience user work experience user hi w...</td>\n",
              "    </tr>\n",
              "    <tr>\n",
              "      <th>2</th>\n",
              "      <td>Hardware</td>\n",
              "      <td>requesting meeting requesting meeting hi pleas...</td>\n",
              "    </tr>\n",
              "    <tr>\n",
              "      <th>4</th>\n",
              "      <td>Miscellaneous</td>\n",
              "      <td>mail verification warning hi got attached plea...</td>\n",
              "    </tr>\n",
              "    <tr>\n",
              "      <th>6</th>\n",
              "      <td>Hardware</td>\n",
              "      <td>prod server tunneling prod tunneling va la tun...</td>\n",
              "    </tr>\n",
              "    <tr>\n",
              "      <th>...</th>\n",
              "      <td>...</td>\n",
              "      <td>...</td>\n",
              "    </tr>\n",
              "    <tr>\n",
              "      <th>47829</th>\n",
              "      <td>Storage</td>\n",
              "      <td>sensitive information access sent wednesday ju...</td>\n",
              "    </tr>\n",
              "    <tr>\n",
              "      <th>47831</th>\n",
              "      <td>Administrative rights</td>\n",
              "      <td>cannot outlook account laptop cannot laptop sa...</td>\n",
              "    </tr>\n",
              "    <tr>\n",
              "      <th>47832</th>\n",
              "      <td>Access</td>\n",
              "      <td>git space project issue adding user sent tuesd...</td>\n",
              "    </tr>\n",
              "    <tr>\n",
              "      <th>47833</th>\n",
              "      <td>Miscellaneous</td>\n",
              "      <td>error sent july error hi guy help error appear...</td>\n",
              "    </tr>\n",
              "    <tr>\n",
              "      <th>47835</th>\n",
              "      <td>HR Support</td>\n",
              "      <td>error cube report sent tuesday july error hell...</td>\n",
              "    </tr>\n",
              "  </tbody>\n",
              "</table>\n",
              "<p>29120 rows × 2 columns</p>\n",
              "</div>\n",
              "    <div class=\"colab-df-buttons\">\n",
              "\n",
              "  <div class=\"colab-df-container\">\n",
              "    <button class=\"colab-df-convert\" onclick=\"convertToInteractive('df-7352e450-43bc-448a-be9c-2446b0b55d4e')\"\n",
              "            title=\"Convert this dataframe to an interactive table.\"\n",
              "            style=\"display:none;\">\n",
              "\n",
              "  <svg xmlns=\"http://www.w3.org/2000/svg\" height=\"24px\" viewBox=\"0 -960 960 960\">\n",
              "    <path d=\"M120-120v-720h720v720H120Zm60-500h600v-160H180v160Zm220 220h160v-160H400v160Zm0 220h160v-160H400v160ZM180-400h160v-160H180v160Zm440 0h160v-160H620v160ZM180-180h160v-160H180v160Zm440 0h160v-160H620v160Z\"/>\n",
              "  </svg>\n",
              "    </button>\n",
              "\n",
              "  <style>\n",
              "    .colab-df-container {\n",
              "      display:flex;\n",
              "      gap: 12px;\n",
              "    }\n",
              "\n",
              "    .colab-df-convert {\n",
              "      background-color: #E8F0FE;\n",
              "      border: none;\n",
              "      border-radius: 50%;\n",
              "      cursor: pointer;\n",
              "      display: none;\n",
              "      fill: #1967D2;\n",
              "      height: 32px;\n",
              "      padding: 0 0 0 0;\n",
              "      width: 32px;\n",
              "    }\n",
              "\n",
              "    .colab-df-convert:hover {\n",
              "      background-color: #E2EBFA;\n",
              "      box-shadow: 0px 1px 2px rgba(60, 64, 67, 0.3), 0px 1px 3px 1px rgba(60, 64, 67, 0.15);\n",
              "      fill: #174EA6;\n",
              "    }\n",
              "\n",
              "    .colab-df-buttons div {\n",
              "      margin-bottom: 4px;\n",
              "    }\n",
              "\n",
              "    [theme=dark] .colab-df-convert {\n",
              "      background-color: #3B4455;\n",
              "      fill: #D2E3FC;\n",
              "    }\n",
              "\n",
              "    [theme=dark] .colab-df-convert:hover {\n",
              "      background-color: #434B5C;\n",
              "      box-shadow: 0px 1px 3px 1px rgba(0, 0, 0, 0.15);\n",
              "      filter: drop-shadow(0px 1px 2px rgba(0, 0, 0, 0.3));\n",
              "      fill: #FFFFFF;\n",
              "    }\n",
              "  </style>\n",
              "\n",
              "    <script>\n",
              "      const buttonEl =\n",
              "        document.querySelector('#df-7352e450-43bc-448a-be9c-2446b0b55d4e button.colab-df-convert');\n",
              "      buttonEl.style.display =\n",
              "        google.colab.kernel.accessAllowed ? 'block' : 'none';\n",
              "\n",
              "      async function convertToInteractive(key) {\n",
              "        const element = document.querySelector('#df-7352e450-43bc-448a-be9c-2446b0b55d4e');\n",
              "        const dataTable =\n",
              "          await google.colab.kernel.invokeFunction('convertToInteractive',\n",
              "                                                    [key], {});\n",
              "        if (!dataTable) return;\n",
              "\n",
              "        const docLinkHtml = 'Like what you see? Visit the ' +\n",
              "          '<a target=\"_blank\" href=https://colab.research.google.com/notebooks/data_table.ipynb>data table notebook</a>'\n",
              "          + ' to learn more about interactive tables.';\n",
              "        element.innerHTML = '';\n",
              "        dataTable['output_type'] = 'display_data';\n",
              "        await google.colab.output.renderOutput(dataTable, element);\n",
              "        const docLink = document.createElement('div');\n",
              "        docLink.innerHTML = docLinkHtml;\n",
              "        element.appendChild(docLink);\n",
              "      }\n",
              "    </script>\n",
              "  </div>\n",
              "\n",
              "\n",
              "<div id=\"df-118fd26c-8112-4082-b935-036529334d39\">\n",
              "  <button class=\"colab-df-quickchart\" onclick=\"quickchart('df-118fd26c-8112-4082-b935-036529334d39')\"\n",
              "            title=\"Suggest charts\"\n",
              "            style=\"display:none;\">\n",
              "\n",
              "<svg xmlns=\"http://www.w3.org/2000/svg\" height=\"24px\"viewBox=\"0 0 24 24\"\n",
              "     width=\"24px\">\n",
              "    <g>\n",
              "        <path d=\"M19 3H5c-1.1 0-2 .9-2 2v14c0 1.1.9 2 2 2h14c1.1 0 2-.9 2-2V5c0-1.1-.9-2-2-2zM9 17H7v-7h2v7zm4 0h-2V7h2v10zm4 0h-2v-4h2v4z\"/>\n",
              "    </g>\n",
              "</svg>\n",
              "  </button>\n",
              "\n",
              "<style>\n",
              "  .colab-df-quickchart {\n",
              "      --bg-color: #E8F0FE;\n",
              "      --fill-color: #1967D2;\n",
              "      --hover-bg-color: #E2EBFA;\n",
              "      --hover-fill-color: #174EA6;\n",
              "      --disabled-fill-color: #AAA;\n",
              "      --disabled-bg-color: #DDD;\n",
              "  }\n",
              "\n",
              "  [theme=dark] .colab-df-quickchart {\n",
              "      --bg-color: #3B4455;\n",
              "      --fill-color: #D2E3FC;\n",
              "      --hover-bg-color: #434B5C;\n",
              "      --hover-fill-color: #FFFFFF;\n",
              "      --disabled-bg-color: #3B4455;\n",
              "      --disabled-fill-color: #666;\n",
              "  }\n",
              "\n",
              "  .colab-df-quickchart {\n",
              "    background-color: var(--bg-color);\n",
              "    border: none;\n",
              "    border-radius: 50%;\n",
              "    cursor: pointer;\n",
              "    display: none;\n",
              "    fill: var(--fill-color);\n",
              "    height: 32px;\n",
              "    padding: 0;\n",
              "    width: 32px;\n",
              "  }\n",
              "\n",
              "  .colab-df-quickchart:hover {\n",
              "    background-color: var(--hover-bg-color);\n",
              "    box-shadow: 0 1px 2px rgba(60, 64, 67, 0.3), 0 1px 3px 1px rgba(60, 64, 67, 0.15);\n",
              "    fill: var(--button-hover-fill-color);\n",
              "  }\n",
              "\n",
              "  .colab-df-quickchart-complete:disabled,\n",
              "  .colab-df-quickchart-complete:disabled:hover {\n",
              "    background-color: var(--disabled-bg-color);\n",
              "    fill: var(--disabled-fill-color);\n",
              "    box-shadow: none;\n",
              "  }\n",
              "\n",
              "  .colab-df-spinner {\n",
              "    border: 2px solid var(--fill-color);\n",
              "    border-color: transparent;\n",
              "    border-bottom-color: var(--fill-color);\n",
              "    animation:\n",
              "      spin 1s steps(1) infinite;\n",
              "  }\n",
              "\n",
              "  @keyframes spin {\n",
              "    0% {\n",
              "      border-color: transparent;\n",
              "      border-bottom-color: var(--fill-color);\n",
              "      border-left-color: var(--fill-color);\n",
              "    }\n",
              "    20% {\n",
              "      border-color: transparent;\n",
              "      border-left-color: var(--fill-color);\n",
              "      border-top-color: var(--fill-color);\n",
              "    }\n",
              "    30% {\n",
              "      border-color: transparent;\n",
              "      border-left-color: var(--fill-color);\n",
              "      border-top-color: var(--fill-color);\n",
              "      border-right-color: var(--fill-color);\n",
              "    }\n",
              "    40% {\n",
              "      border-color: transparent;\n",
              "      border-right-color: var(--fill-color);\n",
              "      border-top-color: var(--fill-color);\n",
              "    }\n",
              "    60% {\n",
              "      border-color: transparent;\n",
              "      border-right-color: var(--fill-color);\n",
              "    }\n",
              "    80% {\n",
              "      border-color: transparent;\n",
              "      border-right-color: var(--fill-color);\n",
              "      border-bottom-color: var(--fill-color);\n",
              "    }\n",
              "    90% {\n",
              "      border-color: transparent;\n",
              "      border-bottom-color: var(--fill-color);\n",
              "    }\n",
              "  }\n",
              "</style>\n",
              "\n",
              "  <script>\n",
              "    async function quickchart(key) {\n",
              "      const quickchartButtonEl =\n",
              "        document.querySelector('#' + key + ' button');\n",
              "      quickchartButtonEl.disabled = true;  // To prevent multiple clicks.\n",
              "      quickchartButtonEl.classList.add('colab-df-spinner');\n",
              "      try {\n",
              "        const charts = await google.colab.kernel.invokeFunction(\n",
              "            'suggestCharts', [key], {});\n",
              "      } catch (error) {\n",
              "        console.error('Error during call to suggestCharts:', error);\n",
              "      }\n",
              "      quickchartButtonEl.classList.remove('colab-df-spinner');\n",
              "      quickchartButtonEl.classList.add('colab-df-quickchart-complete');\n",
              "    }\n",
              "    (() => {\n",
              "      let quickchartButtonEl =\n",
              "        document.querySelector('#df-118fd26c-8112-4082-b935-036529334d39 button');\n",
              "      quickchartButtonEl.style.display =\n",
              "        google.colab.kernel.accessAllowed ? 'block' : 'none';\n",
              "    })();\n",
              "  </script>\n",
              "</div>\n",
              "    </div>\n",
              "  </div>\n"
            ],
            "text/plain": [
              "                 Topic_group  \\\n",
              "0                   Hardware   \n",
              "1                     Access   \n",
              "2                   Hardware   \n",
              "4              Miscellaneous   \n",
              "6                   Hardware   \n",
              "...                      ...   \n",
              "47829                Storage   \n",
              "47831  Administrative rights   \n",
              "47832                 Access   \n",
              "47833          Miscellaneous   \n",
              "47835             HR Support   \n",
              "\n",
              "                                        Cleaned_Document  \n",
              "0      connection icon icon dear please setup icon pe...  \n",
              "1      work experience user work experience user hi w...  \n",
              "2      requesting meeting requesting meeting hi pleas...  \n",
              "4      mail verification warning hi got attached plea...  \n",
              "6      prod server tunneling prod tunneling va la tun...  \n",
              "...                                                  ...  \n",
              "47829  sensitive information access sent wednesday ju...  \n",
              "47831  cannot outlook account laptop cannot laptop sa...  \n",
              "47832  git space project issue adding user sent tuesd...  \n",
              "47833  error sent july error hi guy help error appear...  \n",
              "47835  error cube report sent tuesday july error hell...  \n",
              "\n",
              "[29120 rows x 2 columns]"
            ]
          },
          "execution_count": 149,
          "metadata": {},
          "output_type": "execute_result"
        }
      ],
      "source": [
        "# Assuming 'df' is your DataFrame and 'columns_to_drop' is a list of column names you want to drop\n",
        "columns_to_drop = ['Encoded_Labels']\n",
        "\n",
        "# Drop the specified columns\n",
        "tickets_df_downsample.drop(columns=columns_to_drop, inplace=True)\n",
        "\n",
        "tickets_df_downsample"
      ]
    },
    {
      "cell_type": "code",
      "execution_count": null,
      "metadata": {
        "colab": {
          "base_uri": "https://localhost:8080/",
          "height": 599
        },
        "id": "7KHch26C7iO_",
        "outputId": "dbbf09d7-cc99-4c61-a26a-bb60cb27cefd"
      },
      "outputs": [
        {
          "data": {
            "text/plain": [
              "<Axes: xlabel='Topic_group'>"
            ]
          },
          "execution_count": 147,
          "metadata": {},
          "output_type": "execute_result"
        },
        {
          "data": {
            "image/png": "[encoded data removed]",
            "text/plain": [
              "<Figure size 640x480 with 1 Axes>"
            ]
          },
          "metadata": {},
          "output_type": "display_data"
        }
      ],
      "source": [
        "tickets_df_downsample['Topic_group'].value_counts().plot(kind='bar')"
      ]
    },
    {
      "cell_type": "code",
      "execution_count": null,
      "metadata": {
        "colab": {
          "base_uri": "https://localhost:8080/",
          "height": 423
        },
        "id": "aUEzdsChgH7r",
        "outputId": "94c3f6b8-c696-4333-f984-544a9ca75290"
      },
      "outputs": [
        {
          "data": {
            "application/vnd.google.colaboratory.intrinsic+json": {
              "summary": "{\n  \"name\": \"tickets_df_downsample\",\n  \"rows\": 29120,\n  \"fields\": [\n    {\n      \"column\": \"Topic_group\",\n      \"properties\": {\n        \"dtype\": \"category\",\n        \"num_unique_values\": 8,\n        \"samples\": [\n          \"Access\",\n          \"Administrative rights\",\n          \"Hardware\"\n        ],\n        \"semantic_type\": \"\",\n        \"description\": \"\"\n      }\n    },\n    {\n      \"column\": \"Cleaned_Document\",\n      \"properties\": {\n        \"dtype\": \"string\",\n        \"num_unique_values\": 29088,\n        \"samples\": [\n          \"document upload error sent wednesday document upload hi keep getting error trying upload document please look thanks officer\",\n          \"request repository graduate program project repository graduate program hello repository graduate program named trainer regard senior developer\",\n          \"lazar want access shopping list want shopping please provide accept decline request\"\n        ],\n        \"semantic_type\": \"\",\n        \"description\": \"\"\n      }\n    },\n    {\n      \"column\": \"Encoded_Labels\",\n      \"properties\": {\n        \"dtype\": \"number\",\n        \"std\": 2,\n        \"min\": 0,\n        \"max\": 7,\n        \"num_unique_values\": 8,\n        \"samples\": [\n          0,\n          7,\n          2\n        ],\n        \"semantic_type\": \"\",\n        \"description\": \"\"\n      }\n    }\n  ]\n}",
              "type": "dataframe",
              "variable_name": "tickets_df_downsample"
            },
            "text/html": [
              "\n",
              "  <div id=\"df-9cd38816-5d77-48b3-8dee-8a63089aaa92\" class=\"colab-df-container\">\n",
              "    <div>\n",
              "<style scoped>\n",
              "    .dataframe tbody tr th:only-of-type {\n",
              "        vertical-align: middle;\n",
              "    }\n",
              "\n",
              "    .dataframe tbody tr th {\n",
              "        vertical-align: top;\n",
              "    }\n",
              "\n",
              "    .dataframe thead th {\n",
              "        text-align: right;\n",
              "    }\n",
              "</style>\n",
              "<table border=\"1\" class=\"dataframe\">\n",
              "  <thead>\n",
              "    <tr style=\"text-align: right;\">\n",
              "      <th></th>\n",
              "      <th>Topic_group</th>\n",
              "      <th>Cleaned_Document</th>\n",
              "      <th>Encoded_Labels</th>\n",
              "    </tr>\n",
              "  </thead>\n",
              "  <tbody>\n",
              "    <tr>\n",
              "      <th>0</th>\n",
              "      <td>Hardware</td>\n",
              "      <td>connection icon icon dear please setup icon pe...</td>\n",
              "      <td>2</td>\n",
              "    </tr>\n",
              "    <tr>\n",
              "      <th>1</th>\n",
              "      <td>Access</td>\n",
              "      <td>work experience user work experience user hi w...</td>\n",
              "      <td>0</td>\n",
              "    </tr>\n",
              "    <tr>\n",
              "      <th>2</th>\n",
              "      <td>Hardware</td>\n",
              "      <td>requesting meeting requesting meeting hi pleas...</td>\n",
              "      <td>2</td>\n",
              "    </tr>\n",
              "    <tr>\n",
              "      <th>4</th>\n",
              "      <td>Miscellaneous</td>\n",
              "      <td>mail verification warning hi got attached plea...</td>\n",
              "      <td>3</td>\n",
              "    </tr>\n",
              "    <tr>\n",
              "      <th>6</th>\n",
              "      <td>Hardware</td>\n",
              "      <td>prod server tunneling prod tunneling va la tun...</td>\n",
              "      <td>2</td>\n",
              "    </tr>\n",
              "    <tr>\n",
              "      <th>...</th>\n",
              "      <td>...</td>\n",
              "      <td>...</td>\n",
              "      <td>...</td>\n",
              "    </tr>\n",
              "    <tr>\n",
              "      <th>47829</th>\n",
              "      <td>Storage</td>\n",
              "      <td>sensitive information access sent wednesday ju...</td>\n",
              "      <td>4</td>\n",
              "    </tr>\n",
              "    <tr>\n",
              "      <th>47831</th>\n",
              "      <td>Administrative rights</td>\n",
              "      <td>cannot outlook account laptop cannot laptop sa...</td>\n",
              "      <td>7</td>\n",
              "    </tr>\n",
              "    <tr>\n",
              "      <th>47832</th>\n",
              "      <td>Access</td>\n",
              "      <td>git space project issue adding user sent tuesd...</td>\n",
              "      <td>0</td>\n",
              "    </tr>\n",
              "    <tr>\n",
              "      <th>47833</th>\n",
              "      <td>Miscellaneous</td>\n",
              "      <td>error sent july error hi guy help error appear...</td>\n",
              "      <td>3</td>\n",
              "    </tr>\n",
              "    <tr>\n",
              "      <th>47835</th>\n",
              "      <td>HR Support</td>\n",
              "      <td>error cube report sent tuesday july error hell...</td>\n",
              "      <td>1</td>\n",
              "    </tr>\n",
              "  </tbody>\n",
              "</table>\n",
              "<p>29120 rows × 3 columns</p>\n",
              "</div>\n",
              "    <div class=\"colab-df-buttons\">\n",
              "\n",
              "  <div class=\"colab-df-container\">\n",
              "    <button class=\"colab-df-convert\" onclick=\"convertToInteractive('df-9cd38816-5d77-48b3-8dee-8a63089aaa92')\"\n",
              "            title=\"Convert this dataframe to an interactive table.\"\n",
              "            style=\"display:none;\">\n",
              "\n",
              "  <svg xmlns=\"http://www.w3.org/2000/svg\" height=\"24px\" viewBox=\"0 -960 960 960\">\n",
              "    <path d=\"M120-120v-720h720v720H120Zm60-500h600v-160H180v160Zm220 220h160v-160H400v160Zm0 220h160v-160H400v160ZM180-400h160v-160H180v160Zm440 0h160v-160H620v160ZM180-180h160v-160H180v160Zm440 0h160v-160H620v160Z\"/>\n",
              "  </svg>\n",
              "    </button>\n",
              "\n",
              "  <style>\n",
              "    .colab-df-container {\n",
              "      display:flex;\n",
              "      gap: 12px;\n",
              "    }\n",
              "\n",
              "    .colab-df-convert {\n",
              "      background-color: #E8F0FE;\n",
              "      border: none;\n",
              "      border-radius: 50%;\n",
              "      cursor: pointer;\n",
              "      display: none;\n",
              "      fill: #1967D2;\n",
              "      height: 32px;\n",
              "      padding: 0 0 0 0;\n",
              "      width: 32px;\n",
              "    }\n",
              "\n",
              "    .colab-df-convert:hover {\n",
              "      background-color: #E2EBFA;\n",
              "      box-shadow: 0px 1px 2px rgba(60, 64, 67, 0.3), 0px 1px 3px 1px rgba(60, 64, 67, 0.15);\n",
              "      fill: #174EA6;\n",
              "    }\n",
              "\n",
              "    .colab-df-buttons div {\n",
              "      margin-bottom: 4px;\n",
              "    }\n",
              "\n",
              "    [theme=dark] .colab-df-convert {\n",
              "      background-color: #3B4455;\n",
              "      fill: #D2E3FC;\n",
              "    }\n",
              "\n",
              "    [theme=dark] .colab-df-convert:hover {\n",
              "      background-color: #434B5C;\n",
              "      box-shadow: 0px 1px 3px 1px rgba(0, 0, 0, 0.15);\n",
              "      filter: drop-shadow(0px 1px 2px rgba(0, 0, 0, 0.3));\n",
              "      fill: #FFFFFF;\n",
              "    }\n",
              "  </style>\n",
              "\n",
              "    <script>\n",
              "      const buttonEl =\n",
              "        document.querySelector('#df-9cd38816-5d77-48b3-8dee-8a63089aaa92 button.colab-df-convert');\n",
              "      buttonEl.style.display =\n",
              "        google.colab.kernel.accessAllowed ? 'block' : 'none';\n",
              "\n",
              "      async function convertToInteractive(key) {\n",
              "        const element = document.querySelector('#df-9cd38816-5d77-48b3-8dee-8a63089aaa92');\n",
              "        const dataTable =\n",
              "          await google.colab.kernel.invokeFunction('convertToInteractive',\n",
              "                                                    [key], {});\n",
              "        if (!dataTable) return;\n",
              "\n",
              "        const docLinkHtml = 'Like what you see? Visit the ' +\n",
              "          '<a target=\"_blank\" href=https://colab.research.google.com/notebooks/data_table.ipynb>data table notebook</a>'\n",
              "          + ' to learn more about interactive tables.';\n",
              "        element.innerHTML = '';\n",
              "        dataTable['output_type'] = 'display_data';\n",
              "        await google.colab.output.renderOutput(dataTable, element);\n",
              "        const docLink = document.createElement('div');\n",
              "        docLink.innerHTML = docLinkHtml;\n",
              "        element.appendChild(docLink);\n",
              "      }\n",
              "    </script>\n",
              "  </div>\n",
              "\n",
              "\n",
              "<div id=\"df-e2ff005d-ee5f-4843-a1ee-1935a9decf60\">\n",
              "  <button class=\"colab-df-quickchart\" onclick=\"quickchart('df-e2ff005d-ee5f-4843-a1ee-1935a9decf60')\"\n",
              "            title=\"Suggest charts\"\n",
              "            style=\"display:none;\">\n",
              "\n",
              "<svg xmlns=\"http://www.w3.org/2000/svg\" height=\"24px\"viewBox=\"0 0 24 24\"\n",
              "     width=\"24px\">\n",
              "    <g>\n",
              "        <path d=\"M19 3H5c-1.1 0-2 .9-2 2v14c0 1.1.9 2 2 2h14c1.1 0 2-.9 2-2V5c0-1.1-.9-2-2-2zM9 17H7v-7h2v7zm4 0h-2V7h2v10zm4 0h-2v-4h2v4z\"/>\n",
              "    </g>\n",
              "</svg>\n",
              "  </button>\n",
              "\n",
              "<style>\n",
              "  .colab-df-quickchart {\n",
              "      --bg-color: #E8F0FE;\n",
              "      --fill-color: #1967D2;\n",
              "      --hover-bg-color: #E2EBFA;\n",
              "      --hover-fill-color: #174EA6;\n",
              "      --disabled-fill-color: #AAA;\n",
              "      --disabled-bg-color: #DDD;\n",
              "  }\n",
              "\n",
              "  [theme=dark] .colab-df-quickchart {\n",
              "      --bg-color: #3B4455;\n",
              "      --fill-color: #D2E3FC;\n",
              "      --hover-bg-color: #434B5C;\n",
              "      --hover-fill-color: #FFFFFF;\n",
              "      --disabled-bg-color: #3B4455;\n",
              "      --disabled-fill-color: #666;\n",
              "  }\n",
              "\n",
              "  .colab-df-quickchart {\n",
              "    background-color: var(--bg-color);\n",
              "    border: none;\n",
              "    border-radius: 50%;\n",
              "    cursor: pointer;\n",
              "    display: none;\n",
              "    fill: var(--fill-color);\n",
              "    height: 32px;\n",
              "    padding: 0;\n",
              "    width: 32px;\n",
              "  }\n",
              "\n",
              "  .colab-df-quickchart:hover {\n",
              "    background-color: var(--hover-bg-color);\n",
              "    box-shadow: 0 1px 2px rgba(60, 64, 67, 0.3), 0 1px 3px 1px rgba(60, 64, 67, 0.15);\n",
              "    fill: var(--button-hover-fill-color);\n",
              "  }\n",
              "\n",
              "  .colab-df-quickchart-complete:disabled,\n",
              "  .colab-df-quickchart-complete:disabled:hover {\n",
              "    background-color: var(--disabled-bg-color);\n",
              "    fill: var(--disabled-fill-color);\n",
              "    box-shadow: none;\n",
              "  }\n",
              "\n",
              "  .colab-df-spinner {\n",
              "    border: 2px solid var(--fill-color);\n",
              "    border-color: transparent;\n",
              "    border-bottom-color: var(--fill-color);\n",
              "    animation:\n",
              "      spin 1s steps(1) infinite;\n",
              "  }\n",
              "\n",
              "  @keyframes spin {\n",
              "    0% {\n",
              "      border-color: transparent;\n",
              "      border-bottom-color: var(--fill-color);\n",
              "      border-left-color: var(--fill-color);\n",
              "    }\n",
              "    20% {\n",
              "      border-color: transparent;\n",
              "      border-left-color: var(--fill-color);\n",
              "      border-top-color: var(--fill-color);\n",
              "    }\n",
              "    30% {\n",
              "      border-color: transparent;\n",
              "      border-left-color: var(--fill-color);\n",
              "      border-top-color: var(--fill-color);\n",
              "      border-right-color: var(--fill-color);\n",
              "    }\n",
              "    40% {\n",
              "      border-color: transparent;\n",
              "      border-right-color: var(--fill-color);\n",
              "      border-top-color: var(--fill-color);\n",
              "    }\n",
              "    60% {\n",
              "      border-color: transparent;\n",
              "      border-right-color: var(--fill-color);\n",
              "    }\n",
              "    80% {\n",
              "      border-color: transparent;\n",
              "      border-right-color: var(--fill-color);\n",
              "      border-bottom-color: var(--fill-color);\n",
              "    }\n",
              "    90% {\n",
              "      border-color: transparent;\n",
              "      border-bottom-color: var(--fill-color);\n",
              "    }\n",
              "  }\n",
              "</style>\n",
              "\n",
              "  <script>\n",
              "    async function quickchart(key) {\n",
              "      const quickchartButtonEl =\n",
              "        document.querySelector('#' + key + ' button');\n",
              "      quickchartButtonEl.disabled = true;  // To prevent multiple clicks.\n",
              "      quickchartButtonEl.classList.add('colab-df-spinner');\n",
              "      try {\n",
              "        const charts = await google.colab.kernel.invokeFunction(\n",
              "            'suggestCharts', [key], {});\n",
              "      } catch (error) {\n",
              "        console.error('Error during call to suggestCharts:', error);\n",
              "      }\n",
              "      quickchartButtonEl.classList.remove('colab-df-spinner');\n",
              "      quickchartButtonEl.classList.add('colab-df-quickchart-complete');\n",
              "    }\n",
              "    (() => {\n",
              "      let quickchartButtonEl =\n",
              "        document.querySelector('#df-e2ff005d-ee5f-4843-a1ee-1935a9decf60 button');\n",
              "      quickchartButtonEl.style.display =\n",
              "        google.colab.kernel.accessAllowed ? 'block' : 'none';\n",
              "    })();\n",
              "  </script>\n",
              "</div>\n",
              "    </div>\n",
              "  </div>\n"
            ],
            "text/plain": [
              "                 Topic_group  \\\n",
              "0                   Hardware   \n",
              "1                     Access   \n",
              "2                   Hardware   \n",
              "4              Miscellaneous   \n",
              "6                   Hardware   \n",
              "...                      ...   \n",
              "47829                Storage   \n",
              "47831  Administrative rights   \n",
              "47832                 Access   \n",
              "47833          Miscellaneous   \n",
              "47835             HR Support   \n",
              "\n",
              "                                        Cleaned_Document  Encoded_Labels  \n",
              "0      connection icon icon dear please setup icon pe...               2  \n",
              "1      work experience user work experience user hi w...               0  \n",
              "2      requesting meeting requesting meeting hi pleas...               2  \n",
              "4      mail verification warning hi got attached plea...               3  \n",
              "6      prod server tunneling prod tunneling va la tun...               2  \n",
              "...                                                  ...             ...  \n",
              "47829  sensitive information access sent wednesday ju...               4  \n",
              "47831  cannot outlook account laptop cannot laptop sa...               7  \n",
              "47832  git space project issue adding user sent tuesd...               0  \n",
              "47833  error sent july error hi guy help error appear...               3  \n",
              "47835  error cube report sent tuesday july error hell...               1  \n",
              "\n",
              "[29120 rows x 3 columns]"
            ]
          },
          "execution_count": 148,
          "metadata": {},
          "output_type": "execute_result"
        }
      ],
      "source": [
        "# Define a dictionary to map labels to numerical values\n",
        "label_mapping = {\n",
        "    'Access': 0,\n",
        "    'HR Support': 1,\n",
        "    'Hardware': 2,\n",
        "    'Miscellaneous': 3,\n",
        "    'Storage': 4,\n",
        "    'Purchase': 5,\n",
        "    'Internal Project': 6,\n",
        "    'Administrative rights': 7\n",
        "}\n",
        "\n",
        "# Map the labels to their corresponding numerical values\n",
        "tickets_df_downsample['Encoded_Labels'] = tickets_df_downsample['Topic_group'].map(label_mapping)\n",
        "\n",
        "tickets_df_downsample"
      ]
    },
    {
      "cell_type": "code",
      "execution_count": null,
      "metadata": {
        "colab": {
          "base_uri": "https://localhost:8080/"
        },
        "id": "TQATNPvhhbQI",
        "outputId": "49494e98-ad9d-4cd8-859f-6f410aaae8a7"
      },
      "outputs": [
        {
          "data": {
            "text/plain": [
              "0                     Hardware\n",
              "1                       Access\n",
              "2                     Hardware\n",
              "4                Miscellaneous\n",
              "6                     Hardware\n",
              "                 ...          \n",
              "47829                  Storage\n",
              "47831    Administrative rights\n",
              "47832                   Access\n",
              "47833            Miscellaneous\n",
              "47835               HR Support\n",
              "Name: Topic_group, Length: 29120, dtype: object"
            ]
          },
          "execution_count": 151,
          "metadata": {},
          "output_type": "execute_result"
        }
      ],
      "source": [
        "y=tickets_df_downsample['Topic_group']\n",
        "X = tickets_df_downsample['Cleaned_Document']\n",
        "\n",
        "y"
      ]
    },
    {
      "cell_type": "code",
      "execution_count": null,
      "metadata": {
        "colab": {
          "base_uri": "https://localhost:8080/"
        },
        "id": "rR6_ThjX6aQL",
        "outputId": "5829a87a-b4fd-44ab-debe-380991e7a3fb"
      },
      "outputs": [
        {
          "data": {
            "text/plain": [
              "array(['Access', 'Administrative rights', 'HR Support', 'Hardware',\n",
              "       'Internal Project', 'Miscellaneous', 'Purchase', 'Storage'],\n",
              "      dtype=object)"
            ]
          },
          "execution_count": 152,
          "metadata": {},
          "output_type": "execute_result"
        }
      ],
      "source": [
        "le=LabelEncoder()\n",
        "y=le.fit_transform(y)\n",
        "le.classes_"
      ]
    },
    {
      "cell_type": "code",
      "execution_count": null,
      "metadata": {
        "colab": {
          "base_uri": "https://localhost:8080/"
        },
        "id": "B-92ov0X8e1-",
        "outputId": "32a4b9ec-05a8-4934-f71e-df5b2a0b1a09"
      },
      "outputs": [
        {
          "name": "stdout",
          "output_type": "stream",
          "text": [
            "Training set - Features: (23296,)  Labels: (23296,)\n",
            "Test set - Features: (5824,)  Labels: (5824,)\n"
          ]
        }
      ],
      "source": [
        "from sklearn.model_selection import train_test_split\n",
        "\n",
        "\n",
        "# Split the dataset into training and test sets (80% training, 20% test)\n",
        "X_train, X_test, y_train, y_test = train_test_split(X, y, test_size=0.2, random_state=42)\n",
        "\n",
        "X_test\n",
        "# Print the shapes of the training and test sets\n",
        "print(\"Training set - Features:\", X_train.shape, \" Labels:\", y_train.shape)\n",
        "print(\"Test set - Features:\", X_test.shape, \" Labels:\", y_test.shape)\n"
      ]
    },
    {
      "cell_type": "code",
      "execution_count": null,
      "metadata": {
        "id": "QUfCad6A_siV"
      },
      "outputs": [],
      "source": [
        "x_val = X_train[:3000]\n",
        "partial_x_train = X_train[20000:]\n",
        "\n",
        "y_val = y_train[:3000]\n",
        "partial_y_train = y_train[20000:]"
      ]
    },
    {
      "cell_type": "code",
      "execution_count": null,
      "metadata": {
        "id": "7ugJD2WtDS7l"
      },
      "outputs": [],
      "source": [
        "# model = \"https://tfhub.dev/google/nnlm-en-dim50/2\"\n",
        "# hub_layer = hub.KerasLayer(model, input_shape=[], dtype=tf.string, trainable=True)\n",
        "# hub_layer(X[:3])"
      ]
    },
    {
      "cell_type": "code",
      "execution_count": null,
      "metadata": {
        "id": "q755tYzHkDlY"
      },
      "outputs": [],
      "source": [
        "model = \"https://tfhub.dev/google/nnlm-en-dim50-with-normalization/2\"\n",
        "hub_layer = hub.KerasLayer(model, input_shape=[], dtype=tf.string, trainable=True)\n",
        "hub_layer(X[:3])"
      ]
    },
    {
      "cell_type": "code",
      "execution_count": null,
      "metadata": {
        "id": "c7O9FDimkI4X"
      },
      "outputs": [],
      "source": [
        "# model = \"https://tfhub.dev/google/nnlm-en-dim128-with-normalization/2\"\n",
        "# hub_layer = hub.KerasLayer(model, input_shape=[], dtype=tf.string, trainable=True)\n",
        "# hub_layer(train_examples[:3])"
      ]
    },
    {
      "cell_type": "code",
      "execution_count": null,
      "metadata": {
        "id": "_ePkupY9ylie"
      },
      "outputs": [],
      "source": [
        "# # Define the model\n",
        "# model = tf.keras.Sequential([\n",
        "#     hub_layer,\n",
        "#     tf.keras.layers.Dense(16, activation='relu'),\n",
        "#     tf.keras.layers.Dense(3, activation='softmax')  # Change num_classes to the number of classes in your dataset\n",
        "# ])"
      ]
    },
    {
      "cell_type": "code",
      "execution_count": null,
      "metadata": {
        "id": "UiWa2INGLbRb"
      },
      "outputs": [],
      "source": [
        "model = tf.keras.Sequential([\n",
        "    hub_layer,\n",
        "    tf.keras.layers.Dense(32, activation='relu'),\n",
        "    tf.keras.layers.Dropout(rate=0.5),  # Dropout layer\n",
        "    tf.keras.layers.Dense(8, activation='softmax')\n",
        "])\n"
      ]
    },
    {
      "cell_type": "code",
      "execution_count": null,
      "metadata": {
        "id": "7FAVJH_eypnL"
      },
      "outputs": [],
      "source": [
        "# # Compile the model\n",
        "# model.compile(optimizer='adam',\n",
        "#               loss='sparse_categorical_crossentropy',  # Use sparse categorical crossentropy for multi-class classification\n",
        "#               metrics=['accuracy'])  # Add additional metrics if needed"
      ]
    },
    {
      "cell_type": "code",
      "execution_count": null,
      "metadata": {
        "id": "M0Pj6_dHIGe0"
      },
      "outputs": [],
      "source": [
        "model.compile(optimizer='adam',\n",
        "              loss=tf.keras.losses.SparseCategoricalCrossentropy(from_logits=True),\n",
        "              metrics=['accuracy'])\n"
      ]
    },
    {
      "cell_type": "code",
      "execution_count": null,
      "metadata": {
        "colab": {
          "background_save": true,
          "base_uri": "https://localhost:8080/"
        },
        "id": "sNRbS7z3Bq1-",
        "outputId": "dffdac93-6a07-4993-8563-93d91e526ea6"
      },
      "outputs": [
        {
          "name": "stdout",
          "output_type": "stream",
          "text": [
            "Epoch 1/40\n",
            " 9/13 [===================>..........] - ETA: 6s - loss: 0.3353 - accuracy: 0.9136"
          ]
        }
      ],
      "source": [
        "history = model.fit(partial_x_train,\n",
        "                    partial_y_train,\n",
        "                    epochs=40,\n",
        "                    batch_size=256,\n",
        "                    validation_data=(x_val, y_val),\n",
        "                    verbose=1)"
      ]
    },
    {
      "cell_type": "code",
      "execution_count": null,
      "metadata": {
        "id": "1KLTBP61Piwu"
      },
      "outputs": [],
      "source": [
        "# from transformers import BertTokenizer, TFBertForSequenceClassification\n",
        "# from sklearn.metrics import accuracy_score\n",
        "\n",
        "# # Load the pre-trained BERT tokenizer\n",
        "# tokenizer = BertTokenizer.from_pretrained('bert-base-uncased')\n",
        "\n",
        "# # Disable AutoGraph for a specific function or code block\n",
        "# @tf.autograph.experimental.do_not_convert\n",
        "# def function_with_for_else():\n",
        "#     for item in some_list:\n",
        "#         if condition(item):\n",
        "#             # Handle the condition\n",
        "#             break\n",
        "#     else:\n",
        "#         # Execute this block if the loop completes without encountering a 'break'\n",
        "#         pass\n"
      ]
    },
    {
      "cell_type": "code",
      "execution_count": null,
      "metadata": {
        "id": "DPYa0lKfRMgA"
      },
      "outputs": [],
      "source": [
        "# # Tokenize input text data\n",
        "# def tokenize_text(text):\n",
        "#     return tokenizer.encode_plus(\n",
        "#         text,\n",
        "#         add_special_tokens=True,\n",
        "#         max_length=128,\n",
        "#         padding='max_length',\n",
        "#         return_attention_mask=True,\n",
        "#         return_token_type_ids=False,\n",
        "#         truncation=True,\n",
        "#         return_tensors='tf'\n",
        "#     )\n",
        "\n",
        "# # Tokenize training and test data\n",
        "# X_train_tokenized = [tokenize_text(text) for text in X_train]\n",
        "\n",
        "# X_test_tokenized = [tokenize_text(text) for text in X_test]\n"
      ]
    },
    {
      "cell_type": "code",
      "execution_count": null,
      "metadata": {
        "id": "eLt0lGUkRUFw"
      },
      "outputs": [],
      "source": [
        "# # Convert labels to TensorFlow tensors\n",
        "# y_train = tf.convert_to_tensor(y_train)\n",
        "# y_test = tf.convert_to_tensor(y_test)\n",
        "\n",
        "# # Convert tokenized input data to TensorFlow tensors\n",
        "# X_train_input_ids = tf.concat([x['input_ids'] for x in X_train_tokenized], axis=0)\n",
        "# X_train_attention_masks = tf.concat([x['attention_mask'] for x in X_train_tokenized], axis=0)\n",
        "# X_test_input_ids = tf.concat([x['input_ids'] for x in X_test_tokenized], axis=0)\n",
        "# X_test_attention_masks = tf.concat([x['attention_mask'] for x in X_test_tokenized], axis=0)\n"
      ]
    },
    {
      "cell_type": "code",
      "execution_count": null,
      "metadata": {
        "id": "G8wVmxUgRYbR"
      },
      "outputs": [],
      "source": [
        "# # Load pre-trained BERT model for sequence classification\n",
        "# model = TFBertForSequenceClassification.from_pretrained('bert-base-uncased')\n",
        "\n",
        "\n",
        "# # Configure output layer for three labels\n",
        "# num_classes = 3  # Number of classification categories\n",
        "# output_layer = tf.keras.layers.Dense(num_classes, activation='softmax')\n",
        "\n",
        "# # Compile the model\n",
        "# optimizer = 'adam'\n",
        "# loss = tf.keras.losses.SparseCategoricalCrossentropy(from_logits=True)\n",
        "# metric = tf.keras.metrics.SparseCategoricalAccuracy('accuracy')\n",
        "# model.compile(optimizer=optimizer, loss=loss, metrics=[metric])\n"
      ]
    },
    {
      "cell_type": "code",
      "execution_count": null,
      "metadata": {
        "id": "5e0w3Fr757cN"
      },
      "outputs": [],
      "source": [
        "# from transformers import TFBertForSequenceClassification\n",
        "\n",
        "# # Load pre-trained BERT model for sequence classification\n",
        "# model = TFBertForSequenceClassification.from_pretrained('bert-base-uncased', num_labels=3)  # Specify num_labels=3\n",
        "\n",
        "# # Compile the model\n",
        "# optimizer = 'adam'\n",
        "# loss = tf.keras.losses.SparseCategoricalCrossentropy(from_logits=True)  # Set from_logits=True for BERT's output\n",
        "# metric = tf.keras.metrics.SparseCategoricalAccuracy('accuracy')\n",
        "# model.compile(optimizer=optimizer, loss=loss, metrics=[metric])\n"
      ]
    },
    {
      "cell_type": "code",
      "execution_count": null,
      "metadata": {
        "id": "9eJLESZRRbwD"
      },
      "outputs": [],
      "source": [
        "# # Train the model\n",
        "# history = model.fit(\n",
        "#     [X_train_input_ids, X_train_attention_masks],\n",
        "#     y_train,\n",
        "#     epochs=3,\n",
        "#     batch_size=50,\n",
        "#     validation_data=([X_test_input_ids, X_test_attention_masks], y_test)\n",
        "# )\n",
        "\n"
      ]
    },
    {
      "cell_type": "code",
      "execution_count": null,
      "metadata": {
        "id": "FvzxMgWcRfMn"
      },
      "outputs": [],
      "source": [
        "# # Evaluate the model\n",
        "# predictions = model.predict([X_test_input_ids, X_test_attention_masks])\n",
        "# y_pred = tf.argmax(predictions.logits, axis=1)\n",
        "# accuracy = accuracy_score(y_test, y_pred)\n",
        "# print(\"Test Accuracy:\", accuracy)\n"
      ]
    },
    {
      "cell_type": "code",
      "execution_count": null,
      "metadata": {
        "id": "HTVOcYDrTz-Y"
      },
      "outputs": [],
      "source": [
        "# loss, accuracy = model.evaluate([X_test_input_ids, X_test_attention_masks], y_test)\n",
        "# print(\"Test Loss:\", loss)\n",
        "# print(\"Test Accuracy:\", accuracy)"
      ]
    },
    {
      "cell_type": "code",
      "execution_count": null,
      "metadata": {
        "colab": {
          "base_uri": "https://localhost:8080/"
        },
        "id": "cy0vCCK4YVgi",
        "outputId": "110063ac-e26d-4218-f340-4039f53d1a3b"
      },
      "outputs": [
        {
          "name": "stdout",
          "output_type": "stream",
          "text": [
            "182/182 [==============================] - 33s 181ms/step - loss: 0.6668 - accuracy: 0.7984\n",
            "[0.6667777895927429, 0.7984203100204468]\n"
          ]
        }
      ],
      "source": [
        "results = model.evaluate(X_test, y_test)\n",
        "\n",
        "print(results)"
      ]
    },
    {
      "cell_type": "code",
      "execution_count": null,
      "metadata": {
        "colab": {
          "base_uri": "https://localhost:8080/"
        },
        "id": "aaHnG9ucvHG0",
        "outputId": "43181241-5c88-459a-c9a0-65f51aea3859"
      },
      "outputs": [
        {
          "name": "stdout",
          "output_type": "stream",
          "text": [
            "182/182 [==============================] - 33s 182ms/step\n"
          ]
        }
      ],
      "source": [
        "results_pred = model.predict(X_test)\n",
        "classes_x=np.argmax(results_pred ,axis=1)"
      ]
    },
    {
      "cell_type": "code",
      "execution_count": null,
      "metadata": {
        "colab": {
          "base_uri": "https://localhost:8080/"
        },
        "id": "xVyo7ysqvP89",
        "outputId": "6d3fd58f-9d80-4f87-cb71-b8db3796d9bb"
      },
      "outputs": [
        {
          "data": {
            "text/plain": [
              "dict_keys(['loss', 'accuracy', 'val_loss', 'val_accuracy'])"
            ]
          },
          "execution_count": 180,
          "metadata": {},
          "output_type": "execute_result"
        }
      ],
      "source": [
        "history_dict = history.history\n",
        "history_dict.keys()"
      ]
    },
    {
      "cell_type": "code",
      "execution_count": null,
      "metadata": {
        "colab": {
          "base_uri": "https://localhost:8080/",
          "height": 472
        },
        "id": "IPMD_X_Uvbcx",
        "outputId": "7df43773-da25-444a-a2ee-325548978970"
      },
      "outputs": [
        {
          "data": {
            "image/png": "[encoded data removed]",
            "text/plain": [
              "<Figure size 640x480 with 1 Axes>"
            ]
          },
          "metadata": {},
          "output_type": "display_data"
        }
      ],
      "source": [
        "acc = history_dict['accuracy']\n",
        "val_acc = history_dict['val_accuracy']\n",
        "loss = history_dict['loss']\n",
        "val_loss = history_dict['val_loss']\n",
        "\n",
        "epochs = range(1, len(acc) + 1)\n",
        "\n",
        "# \"bo\" is for \"blue dot\"\n",
        "plt.plot(epochs, loss, 'bo', label='Training loss')\n",
        "# b is for \"solid blue line\"\n",
        "plt.plot(epochs, val_loss, 'b', label='Validation loss')\n",
        "plt.title('Training and validation loss')\n",
        "plt.xlabel('Epochs')\n",
        "plt.ylabel('Loss')\n",
        "plt.legend()\n",
        "\n",
        "plt.show()"
      ]
    },
    {
      "cell_type": "code",
      "execution_count": null,
      "metadata": {
        "colab": {
          "base_uri": "https://localhost:8080/",
          "height": 472
        },
        "id": "O-gF4azWvh4-",
        "outputId": "32679fcc-5393-4dbe-b60a-484357d5bbbc"
      },
      "outputs": [
        {
          "data": {
            "image/png": "[encoded data removed]",
            "text/plain": [
              "<Figure size 640x480 with 1 Axes>"
            ]
          },
          "metadata": {},
          "output_type": "display_data"
        }
      ],
      "source": [
        "plt.clf()   # clear figure\n",
        "\n",
        "plt.plot(epochs, acc, 'bo', label='Training acc')\n",
        "plt.plot(epochs, val_acc, 'b', label='Validation acc')\n",
        "plt.title('Training and validation accuracy')\n",
        "plt.xlabel('Epochs')\n",
        "plt.ylabel('Accuracy')\n",
        "plt.legend()\n",
        "\n",
        "plt.show()"
      ]
    }
  ],
  "metadata": {
    "colab": {
      "provenance": []
    },
    "kernelspec": {
      "display_name": "Python 3",
      "name": "python3"
    },
    "language_info": {
      "name": "python"
    }
  },
  "nbformat": 4,
  "nbformat_minor": 0
}